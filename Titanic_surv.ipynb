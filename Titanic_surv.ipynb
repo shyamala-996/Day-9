{
 "cells": [
  {
   "cell_type": "markdown",
   "id": "0fe35bd0",
   "metadata": {},
   "source": [
    "Load Data"
   ]
  },
  {
   "cell_type": "code",
   "execution_count": null,
   "id": "544f7aa3",
   "metadata": {},
   "outputs": [],
   "source": []
  }
 ],
 "metadata": {
  "language_info": {
   "name": "python"
  }
 },
 "nbformat": 4,
 "nbformat_minor": 5
}
