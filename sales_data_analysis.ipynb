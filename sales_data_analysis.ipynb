{
 "cells": [
  {
   "cell_type": "markdown",
   "id": "93c9e846",
   "metadata": {},
   "source": [
    "Sales Data Analysis"
   ]
  },
  {
   "cell_type": "code",
   "execution_count": 15,
   "id": "e045291e",
   "metadata": {},
   "outputs": [
    {
     "name": "stdout",
     "output_type": "stream",
     "text": [
      "Original Data:\n",
      "   Product  Quantity  Price\n",
      "0       A        10     20\n",
      "1       B         5     15\n",
      "2       A        12     20\n",
      "3       C         8     25\n",
      "4       B         7     15\n"
     ]
    }
   ],
   "source": [
    "import pandas as pd\n",
    "\n",
    "data = {'Product': ['A', 'B', 'A', 'C', 'B'], \n",
    "        'Quantity': [10, 5, 12, 8, 7], \n",
    "        'Price': [20, 15, 20, 25, 15]}\n",
    "\n",
    "sales_df = pd.DataFrame(data)\n",
    "\n",
    "print(\"Original Data:\\n\", sales_df)\n"
   ]
  },
  {
   "cell_type": "markdown",
   "id": "470c33a0",
   "metadata": {},
   "source": [
    "Total sales"
   ]
  },
  {
   "cell_type": "code",
   "execution_count": 12,
   "id": "997fd369",
   "metadata": {},
   "outputs": [
    {
     "name": "stdout",
     "output_type": "stream",
     "text": [
      "\n",
      "Total Sales data:\n",
      "   Product  Quantity  Price  Total_sales\n",
      "0       A        10     20          200\n",
      "1       B         5     15           75\n",
      "2       A        12     20          240\n",
      "3       C         8     25          200\n",
      "4       B         7     15          105\n"
     ]
    }
   ],
   "source": [
    "sales_df[\"Total_sales\"] = sales_df[\"Quantity\"] * sales_df[\"Price\"]\n",
    "print(\"\\nTotal Sales data:\\n\", sales_df)"
   ]
  },
  {
   "cell_type": "markdown",
   "id": "6f9c66d8",
   "metadata": {},
   "source": [
    "Aggregation: product sales"
   ]
  },
  {
   "cell_type": "code",
   "execution_count": 14,
   "id": "7c6561c6",
   "metadata": {},
   "outputs": [
    {
     "name": "stdout",
     "output_type": "stream",
     "text": [
      "\n",
      "Total Sales per Product:\n",
      " Product\n",
      "A    440\n",
      "B    180\n",
      "C    200\n",
      "Name: Total_sales, dtype: int64\n"
     ]
    }
   ],
   "source": [
    "product_sales = sales_df.groupby('Product')['Total_sales'].sum()\n",
    "print(\"\\nTotal Sales per Product:\\n\", product_sales)"
   ]
  }
 ],
 "metadata": {
  "kernelspec": {
   "display_name": "Python 3",
   "language": "python",
   "name": "python3"
  },
  "language_info": {
   "codemirror_mode": {
    "name": "ipython",
    "version": 3
   },
   "file_extension": ".py",
   "mimetype": "text/x-python",
   "name": "python",
   "nbconvert_exporter": "python",
   "pygments_lexer": "ipython3",
   "version": "3.13.7"
  }
 },
 "nbformat": 4,
 "nbformat_minor": 5
}
